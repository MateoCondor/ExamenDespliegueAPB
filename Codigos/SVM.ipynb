{
 "cells": [
  {
   "cell_type": "code",
   "execution_count": 1,
   "id": "ea88abe1",
   "metadata": {},
   "outputs": [],
   "source": [
    "import pandas as pd\n",
    "from sklearn.model_selection import train_test_split\n",
    "from sklearn.preprocessing import LabelEncoder, StandardScaler\n",
    "from sklearn.svm import SVC\n",
    "from sklearn.metrics import accuracy_score, classification_report"
   ]
  },
  {
   "cell_type": "code",
   "execution_count": 2,
   "id": "b5f380b1",
   "metadata": {},
   "outputs": [
    {
     "data": {
      "text/html": [
       "<div>\n",
       "<style scoped>\n",
       "    .dataframe tbody tr th:only-of-type {\n",
       "        vertical-align: middle;\n",
       "    }\n",
       "\n",
       "    .dataframe tbody tr th {\n",
       "        vertical-align: top;\n",
       "    }\n",
       "\n",
       "    .dataframe thead th {\n",
       "        text-align: right;\n",
       "    }\n",
       "</style>\n",
       "<table border=\"1\" class=\"dataframe\">\n",
       "  <thead>\n",
       "    <tr style=\"text-align: right;\">\n",
       "      <th></th>\n",
       "      <th>Edad</th>\n",
       "      <th>Trabajo</th>\n",
       "      <th>Peso</th>\n",
       "      <th>Educacion</th>\n",
       "      <th>EduNum</th>\n",
       "      <th>EstadoCivil</th>\n",
       "      <th>Ocupacion</th>\n",
       "      <th>Relacion</th>\n",
       "      <th>Raza</th>\n",
       "      <th>Sexo</th>\n",
       "      <th>GananciaCapital</th>\n",
       "      <th>PerdidaCapital</th>\n",
       "      <th>HorasSemana</th>\n",
       "      <th>PaisOrigen</th>\n",
       "      <th>Ingreso</th>\n",
       "    </tr>\n",
       "  </thead>\n",
       "  <tbody>\n",
       "    <tr>\n",
       "      <th>0</th>\n",
       "      <td>39</td>\n",
       "      <td>State-gov</td>\n",
       "      <td>77516</td>\n",
       "      <td>Bachelors</td>\n",
       "      <td>13</td>\n",
       "      <td>Never-married</td>\n",
       "      <td>Adm-clerical</td>\n",
       "      <td>Not-in-family</td>\n",
       "      <td>White</td>\n",
       "      <td>Male</td>\n",
       "      <td>2174</td>\n",
       "      <td>0</td>\n",
       "      <td>40</td>\n",
       "      <td>United-States</td>\n",
       "      <td>&lt;=50K</td>\n",
       "    </tr>\n",
       "    <tr>\n",
       "      <th>1</th>\n",
       "      <td>50</td>\n",
       "      <td>Self-emp-not-inc</td>\n",
       "      <td>83311</td>\n",
       "      <td>Bachelors</td>\n",
       "      <td>13</td>\n",
       "      <td>Married-civ-spouse</td>\n",
       "      <td>Exec-managerial</td>\n",
       "      <td>Husband</td>\n",
       "      <td>White</td>\n",
       "      <td>Male</td>\n",
       "      <td>0</td>\n",
       "      <td>0</td>\n",
       "      <td>13</td>\n",
       "      <td>United-States</td>\n",
       "      <td>&lt;=50K</td>\n",
       "    </tr>\n",
       "    <tr>\n",
       "      <th>2</th>\n",
       "      <td>38</td>\n",
       "      <td>Private</td>\n",
       "      <td>215646</td>\n",
       "      <td>HS-grad</td>\n",
       "      <td>9</td>\n",
       "      <td>Divorced</td>\n",
       "      <td>Handlers-cleaners</td>\n",
       "      <td>Not-in-family</td>\n",
       "      <td>White</td>\n",
       "      <td>Male</td>\n",
       "      <td>0</td>\n",
       "      <td>0</td>\n",
       "      <td>40</td>\n",
       "      <td>United-States</td>\n",
       "      <td>&lt;=50K</td>\n",
       "    </tr>\n",
       "    <tr>\n",
       "      <th>3</th>\n",
       "      <td>53</td>\n",
       "      <td>Private</td>\n",
       "      <td>234721</td>\n",
       "      <td>11th</td>\n",
       "      <td>7</td>\n",
       "      <td>Married-civ-spouse</td>\n",
       "      <td>Handlers-cleaners</td>\n",
       "      <td>Husband</td>\n",
       "      <td>Black</td>\n",
       "      <td>Male</td>\n",
       "      <td>0</td>\n",
       "      <td>0</td>\n",
       "      <td>40</td>\n",
       "      <td>United-States</td>\n",
       "      <td>&lt;=50K</td>\n",
       "    </tr>\n",
       "    <tr>\n",
       "      <th>4</th>\n",
       "      <td>28</td>\n",
       "      <td>Private</td>\n",
       "      <td>338409</td>\n",
       "      <td>Bachelors</td>\n",
       "      <td>13</td>\n",
       "      <td>Married-civ-spouse</td>\n",
       "      <td>Prof-specialty</td>\n",
       "      <td>Wife</td>\n",
       "      <td>Black</td>\n",
       "      <td>Female</td>\n",
       "      <td>0</td>\n",
       "      <td>0</td>\n",
       "      <td>40</td>\n",
       "      <td>Cuba</td>\n",
       "      <td>&lt;=50K</td>\n",
       "    </tr>\n",
       "  </tbody>\n",
       "</table>\n",
       "</div>"
      ],
      "text/plain": [
       "   Edad           Trabajo    Peso  Educacion  EduNum         EstadoCivil  \\\n",
       "0    39         State-gov   77516  Bachelors      13       Never-married   \n",
       "1    50  Self-emp-not-inc   83311  Bachelors      13  Married-civ-spouse   \n",
       "2    38           Private  215646    HS-grad       9            Divorced   \n",
       "3    53           Private  234721       11th       7  Married-civ-spouse   \n",
       "4    28           Private  338409  Bachelors      13  Married-civ-spouse   \n",
       "\n",
       "           Ocupacion       Relacion   Raza    Sexo  GananciaCapital  \\\n",
       "0       Adm-clerical  Not-in-family  White    Male             2174   \n",
       "1    Exec-managerial        Husband  White    Male                0   \n",
       "2  Handlers-cleaners  Not-in-family  White    Male                0   \n",
       "3  Handlers-cleaners        Husband  Black    Male                0   \n",
       "4     Prof-specialty           Wife  Black  Female                0   \n",
       "\n",
       "   PerdidaCapital  HorasSemana     PaisOrigen Ingreso  \n",
       "0               0           40  United-States   <=50K  \n",
       "1               0           13  United-States   <=50K  \n",
       "2               0           40  United-States   <=50K  \n",
       "3               0           40  United-States   <=50K  \n",
       "4               0           40           Cuba   <=50K  "
      ]
     },
     "execution_count": 2,
     "metadata": {},
     "output_type": "execute_result"
    }
   ],
   "source": [
    "# Cargar datos\n",
    "data = pd.read_csv('data_evaluacion.csv', header=None)\n",
    "data.columns = ['Edad', 'Trabajo', 'Peso', 'Educacion', 'EduNum', 'EstadoCivil', 'Ocupacion', 'Relacion', 'Raza', 'Sexo', 'GananciaCapital', 'PerdidaCapital', 'HorasSemana', 'PaisOrigen', 'Ingreso']\n",
    "data.head()"
   ]
  },
  {
   "cell_type": "code",
   "execution_count": 3,
   "id": "84d4894d",
   "metadata": {},
   "outputs": [],
   "source": [
    "# Convertir la variable objetivo a binaria\n",
    "data['Ingreso'] = data['Ingreso'].apply(lambda x: 1 if x == '>50K' else 0)"
   ]
  },
  {
   "cell_type": "code",
   "execution_count": 4,
   "id": "547ebf2b",
   "metadata": {},
   "outputs": [],
   "source": [
    "# Convertir etiquetas categóricas a numéricas\n",
    "label_encoders = {}\n",
    "categorical_columns = ['Trabajo', 'Educacion', 'EstadoCivil', 'Ocupacion', 'Relacion', 'Raza', 'Sexo', 'PaisOrigen']\n",
    "for column in categorical_columns:\n",
    "    le = LabelEncoder()\n",
    "    data[column] = le.fit_transform(data[column])\n",
    "    label_encoders[column] = le"
   ]
  },
  {
   "cell_type": "code",
   "execution_count": 5,
   "id": "7fccdaaf",
   "metadata": {},
   "outputs": [],
   "source": [
    "# División de datos\n",
    "X = data.drop('Ingreso', axis=1)\n",
    "y = data['Ingreso']\n",
    "\n",
    "# Normalizar los datos\n",
    "scaler = StandardScaler()\n",
    "X = scaler.fit_transform(X)\n",
    "\n",
    "# División en prueba y entrenamiento\n",
    "X_train, X_test, y_train, y_test = train_test_split(X, y, test_size=0.2, random_state=42)"
   ]
  },
  {
   "cell_type": "code",
   "execution_count": 7,
   "id": "851eb3f0",
   "metadata": {},
   "outputs": [
    {
     "name": "stderr",
     "output_type": "stream",
     "text": [
      "C:\\ProgramData\\anaconda3\\Lib\\site-packages\\sklearn\\svm\\_base.py:299: ConvergenceWarning: Solver terminated early (max_iter=5000).  Consider pre-processing your data with StandardScaler or MinMaxScaler.\n",
      "  warnings.warn(\n"
     ]
    },
    {
     "name": "stdout",
     "output_type": "stream",
     "text": [
      "SVM with linear kernel - Accuracy: 0.497184972873375\n",
      "Classification Report for linear kernel:\n",
      "              precision    recall  f1-score   support\n",
      "\n",
      "           0       0.86      0.40      0.55      7414\n",
      "           1       0.30      0.79      0.43      2355\n",
      "\n",
      "    accuracy                           0.50      9769\n",
      "   macro avg       0.58      0.60      0.49      9769\n",
      "weighted avg       0.72      0.50      0.52      9769\n",
      "\n"
     ]
    },
    {
     "name": "stderr",
     "output_type": "stream",
     "text": [
      "C:\\ProgramData\\anaconda3\\Lib\\site-packages\\sklearn\\svm\\_base.py:299: ConvergenceWarning: Solver terminated early (max_iter=5000).  Consider pre-processing your data with StandardScaler or MinMaxScaler.\n",
      "  warnings.warn(\n"
     ]
    },
    {
     "name": "stdout",
     "output_type": "stream",
     "text": [
      "SVM with poly kernel - Accuracy: 0.3431262155798956\n",
      "Classification Report for poly kernel:\n",
      "              precision    recall  f1-score   support\n",
      "\n",
      "           0       0.90      0.15      0.26      7414\n",
      "           1       0.26      0.95      0.41      2355\n",
      "\n",
      "    accuracy                           0.34      9769\n",
      "   macro avg       0.58      0.55      0.33      9769\n",
      "weighted avg       0.75      0.34      0.29      9769\n",
      "\n"
     ]
    },
    {
     "name": "stderr",
     "output_type": "stream",
     "text": [
      "C:\\ProgramData\\anaconda3\\Lib\\site-packages\\sklearn\\svm\\_base.py:299: ConvergenceWarning: Solver terminated early (max_iter=5000).  Consider pre-processing your data with StandardScaler or MinMaxScaler.\n",
      "  warnings.warn(\n"
     ]
    },
    {
     "name": "stdout",
     "output_type": "stream",
     "text": [
      "SVM with rbf kernel - Accuracy: 0.7320094175452964\n",
      "Classification Report for rbf kernel:\n",
      "              precision    recall  f1-score   support\n",
      "\n",
      "           0       0.91      0.71      0.80      7414\n",
      "           1       0.47      0.79      0.59      2355\n",
      "\n",
      "    accuracy                           0.73      9769\n",
      "   macro avg       0.69      0.75      0.69      9769\n",
      "weighted avg       0.81      0.73      0.75      9769\n",
      "\n"
     ]
    },
    {
     "name": "stderr",
     "output_type": "stream",
     "text": [
      "C:\\ProgramData\\anaconda3\\Lib\\site-packages\\sklearn\\svm\\_base.py:299: ConvergenceWarning: Solver terminated early (max_iter=5000).  Consider pre-processing your data with StandardScaler or MinMaxScaler.\n",
      "  warnings.warn(\n"
     ]
    },
    {
     "name": "stdout",
     "output_type": "stream",
     "text": [
      "SVM with sigmoid kernel - Accuracy: 0.6983314566485822\n",
      "Classification Report for sigmoid kernel:\n",
      "              precision    recall  f1-score   support\n",
      "\n",
      "           0       0.84      0.75      0.79      7414\n",
      "           1       0.41      0.54      0.46      2355\n",
      "\n",
      "    accuracy                           0.70      9769\n",
      "   macro avg       0.62      0.64      0.63      9769\n",
      "weighted avg       0.73      0.70      0.71      9769\n",
      "\n"
     ]
    }
   ],
   "source": [
    "# Entrenar y evaluar modelos SVM con diferentes kernels\n",
    "kernels = ['linear', 'poly', 'rbf', 'sigmoid']\n",
    "for kernel in kernels:\n",
    "    model = SVC(kernel=kernel, max_iter=5000)\n",
    "    model.fit(X_train, y_train)\n",
    "    y_pred = model.predict(X_test)\n",
    "    accuracy = accuracy_score(y_test, y_pred)\n",
    "    print(f'SVM with {kernel} kernel - Accuracy: {accuracy}')\n",
    "    report = classification_report(y_test, y_pred)\n",
    "    print(f'Classification Report for {kernel} kernel:')\n",
    "    print(report)"
   ]
  },
  {
   "cell_type": "code",
   "execution_count": null,
   "id": "77e3f2b0",
   "metadata": {},
   "outputs": [],
   "source": []
  }
 ],
 "metadata": {
  "kernelspec": {
   "display_name": "Python 3 (ipykernel)",
   "language": "python",
   "name": "python3"
  },
  "language_info": {
   "codemirror_mode": {
    "name": "ipython",
    "version": 3
   },
   "file_extension": ".py",
   "mimetype": "text/x-python",
   "name": "python",
   "nbconvert_exporter": "python",
   "pygments_lexer": "ipython3",
   "version": "3.11.7"
  }
 },
 "nbformat": 4,
 "nbformat_minor": 5
}
