{
 "cells": [
  {
   "cell_type": "code",
   "execution_count": null,
   "id": "ea88abe1",
   "metadata": {},
   "outputs": [],
   "source": [
    "import pandas as pd\n",
    "from sklearn.model_selection import train_test_split\n",
    "from sklearn.preprocessing import OneHotEncoder, StandardScaler"
   ]
  },
  {
   "cell_type": "code",
   "execution_count": null,
   "id": "b5f380b1",
   "metadata": {},
   "outputs": [],
   "source": [
    "# Cargar datos\n",
    "data = pd.read_csv('data_evaluacion.csv', header=None)\n",
    "data.columns = ['Edad', 'Trabajo', 'Peso', 'Educacion', 'EduNum', 'EstadoCivil', 'Ocupacion', 'Relacion', 'Raza', 'Sexo', 'GananciaCapital', 'PerdidaCapital', 'HorasSemana', 'PaisOrigen', 'Ingreso']\n",
    "data.head()"
   ]
  },
  {
   "cell_type": "code",
   "execution_count": null,
   "id": "84d4894d",
   "metadata": {},
   "outputs": [],
   "source": [
    "# Convertir la variable objetivo a binaria\n",
    "data['Ingreso'] = data['Ingreso'].apply(lambda x: 1 if x == '>50K' else 0)"
   ]
  },
  {
   "cell_type": "code",
   "execution_count": null,
   "id": "f9ef90e4",
   "metadata": {},
   "outputs": [],
   "source": [
    "# División de datos \n",
    "X = data.drop('Ingreso', axis=1)\n",
    "y = data['Ingreso']\n",
    "\n",
    "# Division en prueba y entrenamiento\n",
    "X_train, X_test, y_train, y_test = train_test_split(X, y, test_size=0.2, random_state=42)"
   ]
  },
  {
   "cell_type": "code",
   "execution_count": null,
   "id": "11c3ac89",
   "metadata": {},
   "outputs": [],
   "source": [
    "# Separar características numéricas y categóricas\n",
    "num = ['Edad', 'Peso', 'EduNum', 'GananciaCapital', 'PerdidaCapital', 'HorasSemana']\n",
    "cat = ['Trabajo', 'Educacion', 'EstadoCivil', 'Ocupacion', 'Relacion', 'Raza', 'Sexo', 'PaisOrigen']\n",
    "\n",
    "# Escalar características numéricas\n",
    "scaler = StandardScaler()\n",
    "X_train[num] = scaler.fit_transform(X_train[num])\n",
    "X_test[num] = scaler.transform(X_test[num])"
   ]
  },
  {
   "cell_type": "code",
   "execution_count": null,
   "id": "35ac61f9",
   "metadata": {},
   "outputs": [],
   "source": [
    "# Codificar características categóricas\n",
    "encoder = OneHotEncoder(drop='first',handle_unknown='ignore', sparse=False)\n",
    "X_train_cat = pd.DataFrame(encoder.fit_transform(X_train[cat]), columns=encoder.get_feature_names_out(cat))\n",
    "X_test_cat = pd.DataFrame(encoder.transform(X_test[cat]), columns=encoder.get_feature_names_out(cat))"
   ]
  },
  {
   "cell_type": "code",
   "execution_count": null,
   "id": "620e5f20",
   "metadata": {},
   "outputs": [],
   "source": [
    "# Concatenar características numéricas y categóricas\n",
    "X_train = pd.concat([X_train[num].reset_index(drop=True), X_train_cat.reset_index(drop=True)], axis=1)\n",
    "X_test = pd.concat([X_test[num].reset_index(drop=True), X_test_cat.reset_index(drop=True)], axis=1)\n"
   ]
  },
  {
   "cell_type": "code",
   "execution_count": null,
   "id": "a736ef04",
   "metadata": {},
   "outputs": [],
   "source": [
    "from sklearn.linear_model import LogisticRegression\n",
    "from sklearn.metrics import classification_report, accuracy_score\n",
    "\n",
    "model_lr = LogisticRegression(max_iter=1000, random_state=42)\n",
    "model_lr.fit(X_train, y_train)\n",
    "y_pred_lr = model_lr.predict(X_test)\n",
    "\n",
    "print(\"Regresión Logística - Accuracy:\", accuracy_score(y_test, y_pred_lr))\n",
    "print(classification_report(y_test, y_pred_lr))\n"
   ]
  },
  {
   "cell_type": "code",
   "execution_count": null,
   "id": "2bdd42b9",
   "metadata": {},
   "outputs": [],
   "source": [
    "from sklearn.svm import SVC\n",
    "from sklearn.metrics import classification_report, accuracy_score\n",
    "\n",
    "kernels = ['linear', 'poly', 'rbf', 'sigmoid']\n",
    "for kernel in kernels:\n",
    "    model_svm = SVC(kernel=kernel, random_state=42)\n",
    "    model_svm.fit(X_train, y_train)\n",
    "    y_pred_svm = model_svm.predict(X_test)\n",
    "    \n",
    "    print(f\"SVM con kernel='{kernel}' - Accuracy:\", accuracy_score(y_test, y_pred_svm))\n",
    "    print(classification_report(y_test, y_pred_svm))\n"
   ]
  },
  {
   "cell_type": "code",
   "execution_count": null,
   "id": "7c1fe6e4",
   "metadata": {},
   "outputs": [],
   "source": [
    "from sklearn.neighbors import KNeighborsClassifier\n",
    "import numpy as np\n",
    "from sklearn.metrics import classification_report, accuracy_score\n",
    "\n",
    "k_values = range(1, 21)\n",
    "best_k = 1\n",
    "best_score = 0\n",
    "\n",
    "for k in k_values:\n",
    "    model_knn = KNeighborsClassifier(n_neighbors=k)\n",
    "    model_knn.fit(X_train, y_train)\n",
    "    y_pred_knn = model_knn.predict(X_test)\n",
    "    score = accuracy_score(y_test, y_pred_knn)\n",
    "    \n",
    "    if score > best_score:\n",
    "        best_k = k\n",
    "        best_score = score\n",
    "    \n",
    "    print(f\"k-NN con k={k} - Accuracy:\", score)\n",
    "\n",
    "print(f\"Mejor k: {best_k} con Accuracy: {best_score}\")\n"
   ]
  },
  {
   "cell_type": "code",
   "execution_count": null,
   "id": "1010d31d",
   "metadata": {},
   "outputs": [],
   "source": [
    "from sklearn.tree import DecisionTreeClassifier\n",
    "\n",
    "model_dt = DecisionTreeClassifier(random_state=42)\n",
    "model_dt.fit(X_train, y_train)\n",
    "y_pred_dt = model_dt.predict(X_test)\n",
    "\n",
    "print(\"Árbol de Decisión - Accuracy:\", accuracy_score(y_test, y_pred_dt))\n",
    "print(classification_report(y_test, y_pred_dt))\n"
   ]
  },
  {
   "cell_type": "code",
   "execution_count": null,
   "id": "b9b75b29",
   "metadata": {},
   "outputs": [],
   "source": [
    "from sklearn.naive_bayes import GaussianNB\n",
    "\n",
    "model_nb = GaussianNB()\n",
    "model_nb.fit(X_train, y_train)\n",
    "y_pred_nb = model_nb.predict(X_test)\n",
    "\n",
    "print(\"Naive Bayes - Accuracy:\", accuracy_score(y_test, y_pred_nb))\n",
    "print(classification_report(y_test, y_pred_nb))\n"
   ]
  },
  {
   "cell_type": "code",
   "execution_count": null,
   "id": "f0018f74",
   "metadata": {},
   "outputs": [],
   "source": [
    "from keras.models import Sequential\n",
    "from keras.layers import Dense\n",
    "# Define multi-layer perceptron (MLP)\n",
    "mlp_model = Sequential()\n",
    "\n",
    "\n",
    "mlp_model.add(Dense(64, activation='relu', input_shape=[X_train.shape[1]]))\n",
    "mlp_model.add(Dense(32, activation='relu'))\n",
    "mlp_model.add(Dense(16, activation='relu'))\n",
    "mlp_model.add(Dense(1, activation='softmax'))\n",
    "\n",
    "mlp_model.compile(\n",
    "    loss='categorical_crossentropy',\n",
    "    optimizer='adam',\n",
    "    metrics=['accuracy']\n",
    ")\n",
    "\n",
    "# Train model\n",
    "mlp_history = mlp_model.fit(X_train, y_train, epochs=50, batch_size=32, validation_data=(X_test, y_test))\n",
    "\n",
    "mlp_model.evaluate(X_test,y_test)"
   ]
  },
  {
   "cell_type": "code",
   "execution_count": null,
   "id": "a155a076",
   "metadata": {},
   "outputs": [],
   "source": []
  }
 ],
 "metadata": {
  "kernelspec": {
   "display_name": "Python 3 (ipykernel)",
   "language": "python",
   "name": "python3"
  },
  "language_info": {
   "codemirror_mode": {
    "name": "ipython",
    "version": 3
   },
   "file_extension": ".py",
   "mimetype": "text/x-python",
   "name": "python",
   "nbconvert_exporter": "python",
   "pygments_lexer": "ipython3",
   "version": "3.11.7"
  }
 },
 "nbformat": 4,
 "nbformat_minor": 5
}
